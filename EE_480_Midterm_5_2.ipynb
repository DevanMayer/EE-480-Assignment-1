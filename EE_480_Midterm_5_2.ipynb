{
  "nbformat": 4,
  "nbformat_minor": 0,
  "metadata": {
    "colab": {
      "provenance": [],
      "authorship_tag": "ABX9TyNSsGyWeqQX7yAKh5jbUuwG",
      "include_colab_link": true
    },
    "kernelspec": {
      "name": "julia",
      "display_name": "Julia"
    },
    "language_info": {
      "name": "julia"
    }
  },
  "cells": [
    {
      "cell_type": "markdown",
      "metadata": {
        "id": "view-in-github",
        "colab_type": "text"
      },
      "source": [
        "<a href=\"https://colab.research.google.com/github/DevanMayer/EE-480-Assignments/blob/main/EE_480_Midterm_5_2.ipynb\" target=\"_parent\"><img src=\"https://colab.research.google.com/assets/colab-badge.svg\" alt=\"Open In Colab\"/></a>"
      ]
    },
    {
      "cell_type": "code",
      "execution_count": 1,
      "metadata": {
        "colab": {
          "base_uri": "https://localhost:8080/"
        },
        "id": "Kyj1TPEIMOKG",
        "outputId": "12cbabba-3328-481c-e8d4-303e34c7a05c"
      },
      "outputs": [
        {
          "output_type": "stream",
          "name": "stderr",
          "text": [
            "\u001b[32m\u001b[1m    Updating\u001b[22m\u001b[39m registry at `~/.julia/registries/General.toml`\n",
            "\u001b[32m\u001b[1m   Resolving\u001b[22m\u001b[39m package versions...\n",
            "\u001b[32m\u001b[1m   Installed\u001b[22m\u001b[39m CodecBzip2 ─────────────── v0.8.5\n",
            "\u001b[32m\u001b[1m   Installed\u001b[22m\u001b[39m Distances ──────────────── v0.10.12\n",
            "\u001b[32m\u001b[1m   Installed\u001b[22m\u001b[39m FiniteDiff ─────────────── v2.29.0\n",
            "\u001b[32m\u001b[1m   Installed\u001b[22m\u001b[39m NLsolve ────────────────── v4.5.1\n",
            "\u001b[32m\u001b[1m   Installed\u001b[22m\u001b[39m BenchmarkTools ─────────── v1.6.2\n",
            "\u001b[32m\u001b[1m   Installed\u001b[22m\u001b[39m Memento ────────────────── v1.4.1\n",
            "\u001b[32m\u001b[1m   Installed\u001b[22m\u001b[39m MutableArithmetics ─────── v1.6.6\n",
            "\u001b[32m\u001b[1m   Installed\u001b[22m\u001b[39m NLSolversBase ──────────── v7.10.0\n",
            "\u001b[32m\u001b[1m   Installed\u001b[22m\u001b[39m StructTypes ────────────── v1.11.0\n",
            "\u001b[32m\u001b[1m   Installed\u001b[22m\u001b[39m JSON3 ──────────────────── v1.14.3\n",
            "\u001b[32m\u001b[1m   Installed\u001b[22m\u001b[39m InfrastructureModels ───── v0.7.8\n",
            "\u001b[32m\u001b[1m   Installed\u001b[22m\u001b[39m LineSearches ───────────── v7.4.0\n",
            "\u001b[32m\u001b[1m   Installed\u001b[22m\u001b[39m PowerModels ────────────── v0.21.5\n",
            "\u001b[32m\u001b[1m   Installed\u001b[22m\u001b[39m MathOptInterface ───────── v1.45.0\n",
            "\u001b[32m\u001b[1m   Installed\u001b[22m\u001b[39m UnPack ─────────────────── v1.0.2\n",
            "\u001b[32m\u001b[1m   Installed\u001b[22m\u001b[39m Parameters ─────────────── v0.12.3\n",
            "\u001b[32m\u001b[1m   Installed\u001b[22m\u001b[39m JuMP ───────────────────── v1.29.1\n",
            "\u001b[32m\u001b[1m   Installed\u001b[22m\u001b[39m DifferentiationInterface ─ v0.7.9\n",
            "\u001b[32m\u001b[1m    Updating\u001b[22m\u001b[39m `~/.julia/environments/v1.11/Project.toml`\n",
            "  \u001b[90m[c36e90e8] \u001b[39m\u001b[92m+ PowerModels v0.21.5\u001b[39m\n",
            "\u001b[32m\u001b[1m    Updating\u001b[22m\u001b[39m `~/.julia/environments/v1.11/Manifest.toml`\n",
            "  \u001b[90m[6e4b80f9] \u001b[39m\u001b[92m+ BenchmarkTools v1.6.2\u001b[39m\n",
            "  \u001b[90m[523fee87] \u001b[39m\u001b[92m+ CodecBzip2 v0.8.5\u001b[39m\n",
            "  \u001b[90m[a0c0ee7d] \u001b[39m\u001b[92m+ DifferentiationInterface v0.7.9\u001b[39m\n",
            "  \u001b[90m[b4f34e82] \u001b[39m\u001b[92m+ Distances v0.10.12\u001b[39m\n",
            "  \u001b[90m[6a86dc24] \u001b[39m\u001b[92m+ FiniteDiff v2.29.0\u001b[39m\n",
            "  \u001b[90m[2030c09a] \u001b[39m\u001b[92m+ InfrastructureModels v0.7.8\u001b[39m\n",
            "  \u001b[90m[0f8b85d8] \u001b[39m\u001b[92m+ JSON3 v1.14.3\u001b[39m\n",
            "  \u001b[90m[4076af6c] \u001b[39m\u001b[92m+ JuMP v1.29.1\u001b[39m\n",
            "  \u001b[90m[d3d80556] \u001b[39m\u001b[92m+ LineSearches v7.4.0\u001b[39m\n",
            "  \u001b[90m[b8f27783] \u001b[39m\u001b[92m+ MathOptInterface v1.45.0\u001b[39m\n",
            "  \u001b[90m[f28f55f0] \u001b[39m\u001b[92m+ Memento v1.4.1\u001b[39m\n",
            "  \u001b[90m[d8a4904e] \u001b[39m\u001b[92m+ MutableArithmetics v1.6.6\u001b[39m\n",
            "  \u001b[90m[d41bc354] \u001b[39m\u001b[92m+ NLSolversBase v7.10.0\u001b[39m\n",
            "  \u001b[90m[2774e3e8] \u001b[39m\u001b[92m+ NLsolve v4.5.1\u001b[39m\n",
            "  \u001b[90m[d96e819e] \u001b[39m\u001b[92m+ Parameters v0.12.3\u001b[39m\n",
            "  \u001b[90m[c36e90e8] \u001b[39m\u001b[92m+ PowerModels v0.21.5\u001b[39m\n",
            "  \u001b[90m[856f2bd8] \u001b[39m\u001b[92m+ StructTypes v1.11.0\u001b[39m\n",
            "  \u001b[90m[3a884ed6] \u001b[39m\u001b[92m+ UnPack v1.0.2\u001b[39m\n",
            "  \u001b[90m[9abbd945] \u001b[39m\u001b[92m+ Profile v1.11.0\u001b[39m\n",
            "\u001b[92m\u001b[1mPrecompiling\u001b[22m\u001b[39m project...\n",
            "   5019.7 ms\u001b[32m  ✓ \u001b[39m\u001b[90mUnPack\u001b[39m\n",
            "   5520.6 ms\u001b[32m  ✓ \u001b[39m\u001b[90mDistances\u001b[39m\n",
            "   7112.8 ms\u001b[32m  ✓ \u001b[39m\u001b[90mDifferentiationInterface\u001b[39m\n",
            "   2106.7 ms\u001b[32m  ✓ \u001b[39m\u001b[90mFiniteDiff\u001b[39m\n",
            "   2745.1 ms\u001b[32m  ✓ \u001b[39m\u001b[90mStructTypes\u001b[39m\n",
            "   1595.1 ms\u001b[32m  ✓ \u001b[39m\u001b[90mCodecBzip2\u001b[39m\n",
            "   4000.1 ms\u001b[32m  ✓ \u001b[39m\u001b[90mBenchmarkTools\u001b[39m\n",
            "   1698.5 ms\u001b[32m  ✓ \u001b[39m\u001b[90mParameters\u001b[39m\n",
            "  10454.4 ms\u001b[32m  ✓ \u001b[39m\u001b[90mMemento\u001b[39m\n",
            "   3645.0 ms\u001b[32m  ✓ \u001b[39m\u001b[90mDistances → DistancesSparseArraysExt\u001b[39m\n",
            "   1600.5 ms\u001b[32m  ✓ \u001b[39m\u001b[90mDistances → DistancesChainRulesCoreExt\u001b[39m\n",
            "   1168.3 ms\u001b[32m  ✓ \u001b[39m\u001b[90mDifferentiationInterface → DifferentiationInterfaceGPUArraysCoreExt\u001b[39m\n",
            "   1816.9 ms\u001b[32m  ✓ \u001b[39m\u001b[90mDifferentiationInterface → DifferentiationInterfaceStaticArraysExt\u001b[39m\n",
            "   1501.6 ms\u001b[32m  ✓ \u001b[39m\u001b[90mDifferentiationInterface → DifferentiationInterfaceChainRulesCoreExt\u001b[39m\n",
            "   2343.3 ms\u001b[32m  ✓ \u001b[39m\u001b[90mDifferentiationInterface → DifferentiationInterfaceForwardDiffExt\u001b[39m\n",
            "   2115.3 ms\u001b[32m  ✓ \u001b[39m\u001b[90mDifferentiationInterface → DifferentiationInterfaceSparseArraysExt\u001b[39m\n",
            "   1806.4 ms\u001b[32m  ✓ \u001b[39m\u001b[90mFiniteDiff → FiniteDiffSparseArraysExt\u001b[39m\n",
            "   2552.1 ms\u001b[32m  ✓ \u001b[39m\u001b[90mFiniteDiff → FiniteDiffStaticArraysExt\u001b[39m\n",
            "   9199.1 ms\u001b[32m  ✓ \u001b[39m\u001b[90mDifferentiationInterface → DifferentiationInterfaceEnzymeExt\u001b[39m\n",
            "   2561.3 ms\u001b[32m  ✓ \u001b[39m\u001b[90mDifferentiationInterface → DifferentiationInterfaceFiniteDiffExt\u001b[39m\n",
            "  27817.0 ms\u001b[32m  ✓ \u001b[39m\u001b[90mMutableArithmetics\u001b[39m\n",
            "   2188.2 ms\u001b[32m  ✓ \u001b[39m\u001b[90mNLSolversBase\u001b[39m\n",
            "   4121.5 ms\u001b[32m  ✓ \u001b[39m\u001b[90mLineSearches\u001b[39m\n",
            "   2808.2 ms\u001b[32m  ✓ \u001b[39m\u001b[90mNLsolve\u001b[39m\n",
            "  20994.0 ms\u001b[32m  ✓ \u001b[39m\u001b[90mJSON3\u001b[39m\n",
            "  91360.9 ms\u001b[32m  ✓ \u001b[39m\u001b[90mMathOptInterface\u001b[39m\n",
            "  48676.8 ms\u001b[32m  ✓ \u001b[39m\u001b[90mJuMP\u001b[39m\n",
            "   4746.4 ms\u001b[32m  ✓ \u001b[39m\u001b[90mInfrastructureModels\u001b[39m\n",
            " 116986.5 ms\u001b[32m  ✓ \u001b[39mPowerModels\n",
            "  29 dependencies successfully precompiled in 324 seconds. 488 already precompiled.\n",
            "\u001b[32m\u001b[1m   Resolving\u001b[22m\u001b[39m package versions...\n",
            "\u001b[32m\u001b[1m   Installed\u001b[22m\u001b[39m Ipopt_jll ───────────── v300.1400.1900+0\n",
            "\u001b[32m\u001b[1m   Installed\u001b[22m\u001b[39m OpenBLAS32_jll ──────── v0.3.29+0\n",
            "\u001b[32m\u001b[1m   Installed\u001b[22m\u001b[39m SPRAL_jll ───────────── v2025.5.20+0\n",
            "\u001b[32m\u001b[1m   Installed\u001b[22m\u001b[39m Xorg_libpciaccess_jll ─ v0.18.1+0\n",
            "\u001b[32m\u001b[1m   Installed\u001b[22m\u001b[39m METIS_jll ───────────── v5.1.3+0\n",
            "\u001b[32m\u001b[1m   Installed\u001b[22m\u001b[39m Hwloc_jll ───────────── v2.12.2+0\n",
            "\u001b[32m\u001b[1m   Installed\u001b[22m\u001b[39m MUMPS_seq_jll ───────── v500.800.100+0\n",
            "\u001b[32m\u001b[1m   Installed\u001b[22m\u001b[39m ASL_jll ─────────────── v0.1.3+0\n",
            "\u001b[32m\u001b[1m   Installed\u001b[22m\u001b[39m XML2_jll ────────────── v2.13.9+0\n",
            "\u001b[32m\u001b[1m   Installed\u001b[22m\u001b[39m Ipopt ───────────────── v1.11.0\n",
            "\u001b[32m\u001b[1m    Updating\u001b[22m\u001b[39m `~/.julia/environments/v1.11/Project.toml`\n",
            "  \u001b[90m[b6b21f68] \u001b[39m\u001b[92m+ Ipopt v1.11.0\u001b[39m\n",
            "\u001b[32m\u001b[1m    Updating\u001b[22m\u001b[39m `~/.julia/environments/v1.11/Manifest.toml`\n",
            "  \u001b[90m[b6b21f68] \u001b[39m\u001b[92m+ Ipopt v1.11.0\u001b[39m\n",
            "  \u001b[90m[ae81ac8f] \u001b[39m\u001b[92m+ ASL_jll v0.1.3+0\u001b[39m\n",
            "  \u001b[90m[e33a78d0] \u001b[39m\u001b[92m+ Hwloc_jll v2.12.2+0\u001b[39m\n",
            "  \u001b[90m[9cc047cb] \u001b[39m\u001b[92m+ Ipopt_jll v300.1400.1900+0\u001b[39m\n",
            "  \u001b[90m[d00139f3] \u001b[39m\u001b[92m+ METIS_jll v5.1.3+0\u001b[39m\n",
            "  \u001b[90m[d7ed1dd3] \u001b[39m\u001b[92m+ MUMPS_seq_jll v500.800.100+0\u001b[39m\n",
            "  \u001b[90m[656ef2d0] \u001b[39m\u001b[92m+ OpenBLAS32_jll v0.3.29+0\u001b[39m\n",
            "\u001b[33m⌅\u001b[39m \u001b[90m[319450e9] \u001b[39m\u001b[92m+ SPRAL_jll v2025.5.20+0\u001b[39m\n",
            "\u001b[33m⌅\u001b[39m \u001b[90m[02c8fc9c] \u001b[39m\u001b[92m+ XML2_jll v2.13.9+0\u001b[39m\n",
            "  \u001b[90m[a65dc6b1] \u001b[39m\u001b[92m+ Xorg_libpciaccess_jll v0.18.1+0\u001b[39m\n",
            "\u001b[36m\u001b[1m        Info\u001b[22m\u001b[39m Packages marked with \u001b[33m⌅\u001b[39m have new versions available but compatibility constraints restrict them from upgrading. To see why use `status --outdated -m`\n",
            "\u001b[92m\u001b[1mPrecompiling\u001b[22m\u001b[39m project...\n",
            "   1887.0 ms\u001b[32m  ✓ \u001b[39m\u001b[90mASL_jll\u001b[39m\n",
            "   2065.4 ms\u001b[32m  ✓ \u001b[39m\u001b[90mXorg_libpciaccess_jll\u001b[39m\n",
            "   2526.7 ms\u001b[32m  ✓ \u001b[39m\u001b[90mMETIS_jll\u001b[39m\n",
            "   1863.6 ms\u001b[32m  ✓ \u001b[39m\u001b[90mOpenBLAS32_jll\u001b[39m\n",
            "   2000.4 ms\u001b[32m  ✓ \u001b[39m\u001b[90mXML2_jll\u001b[39m\n",
            "   2069.3 ms\u001b[32m  ✓ \u001b[39m\u001b[90mMUMPS_seq_jll\u001b[39m\n",
            "   1086.8 ms\u001b[32m  ✓ \u001b[39m\u001b[90mHwloc_jll\u001b[39m\n",
            "    878.1 ms\u001b[32m  ✓ \u001b[39m\u001b[90mSPRAL_jll\u001b[39m\n",
            "    953.6 ms\u001b[32m  ✓ \u001b[39m\u001b[90mIpopt_jll\u001b[39m\n",
            "    915.1 ms\u001b[32m  ✓ \u001b[39mIpopt\n",
            "  57268.2 ms\u001b[32m  ✓ \u001b[39mIpopt → IpoptMathOptInterfaceExt\n",
            "  11 dependencies successfully precompiled in 66 seconds. 517 already precompiled.\n"
          ]
        }
      ],
      "source": [
        "# Install necessary packages if not already installed\n",
        "using Pkg\n",
        "Pkg.add(\"PowerModels\")\n",
        "Pkg.add(\"Ipopt\")"
      ]
    },
    {
      "cell_type": "code",
      "source": [
        "z12=0.02 + im*0.08\n",
        "z13=0.01 + im*0.05\n",
        "z23=0.015 + im*0.06\n",
        "\n",
        "y12 = 1/(z12)\n",
        "y13 = 1/(z13)\n",
        "y23 = 1/(z23)\n",
        "\n",
        "v1=1.02+im*0.0\n",
        "v2=1.1+im*0.0\n",
        "v3=1.04+im*0.0\n",
        "\n",
        "S_L = 2.5 + im*1.0\n",
        "P_G = 1.5\n",
        "\n",
        "Ybus = [\n",
        "    y12+y13  -y12     -y13;\n",
        "    -y12     y12+y23  -y23;\n",
        "    -y13     -y23     y13+y23\n",
        "]\n",
        "show(IOContext(stdout, :limit => false), \"text/plain\", round.(Ybus, digits=4))\n",
        "\n",
        "v2n=(1/Y[22])*(conj(S_L)/conj(v2))-\n",
        "\n"
      ],
      "metadata": {
        "colab": {
          "base_uri": "https://localhost:8080/"
        },
        "id": "Drtea3QdMSRo",
        "outputId": "00d2deca-d074-4628-dc52-e5671cb707fa"
      },
      "execution_count": 2,
      "outputs": [
        {
          "output_type": "execute_result",
          "data": {
            "text/plain": [
              "3×3 Matrix{ComplexF64}:\n",
              "  0.0-12.5im  -0.0+10.0im  -0.0+2.5im\n",
              " -0.0+10.0im   0.0-15.0im  -0.0+5.0im\n",
              " -0.0+2.5im   -0.0+5.0im    0.0-7.5im"
            ]
          },
          "metadata": {},
          "execution_count": 2
        }
      ]
    }
  ]
}