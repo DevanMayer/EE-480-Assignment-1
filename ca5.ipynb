{
  "cells": [
    {
      "cell_type": "markdown",
      "metadata": {
        "id": "view-in-github",
        "colab_type": "text"
      },
      "source": [
        "<a href=\"https://colab.research.google.com/github/DevanMayer/EE-480-Assignments/blob/main/ca5.ipynb\" target=\"_parent\"><img src=\"https://colab.research.google.com/assets/colab-badge.svg\" alt=\"Open In Colab\"/></a>"
      ]
    },
    {
      "cell_type": "markdown",
      "metadata": {
        "id": "iPruOKtye7dy"
      },
      "source": [
        "\n",
        "\n",
        "# **EE 480 - Coding Assignment #5: The Newton-Raphson Power Flow**\n",
        "\n",
        "**Instructor:** Dr. Saeed Manshadi\n",
        "\n",
        "**Due Date:** Oct 14, 2025\n",
        "\n",
        "### **Instructions**\n",
        "\n",
        "This assignment is a deep dive into the Newton-Raphson (NR) power flow method. You will implement the NR algorithm from scratch for small systems and then use the powerful `PowerModels.jl` package to analyze and solve a problem on a larger test case.\n",
        "\n",
        "**Working in Google Colab:**\n",
        "*   This notebook is designed to be completed in Google Colab.\n",
        "*   **CRITICAL FIRST STEP:** Ensure the Julia kernel is active. If needed, run the setup cell from a previous assignment and restart the runtime.\n",
        "\n",
        "**Submission:**\n",
        "*   Please follow the submission instructions provided on Canvas to save your completed notebook back to your private GitHub repository.\n",
        "\n",
        "---\n",
        "### **Required Packages (Run This Cell First!)**"
      ]
    },
    {
      "cell_type": "code",
      "execution_count": null,
      "metadata": {
        "vscode": {
          "languageId": "julia"
        },
        "id": "JuKKUGOHe7dz"
      },
      "outputs": [],
      "source": [
        "# This cell adds the necessary packages for this assignment.\n",
        "using Pkg\n",
        "Pkg.add(\"PowerModels\")\n",
        "Pkg.add(\"Ipopt\")\n",
        "Pkg.add(\"LinearAlgebra\")"
      ]
    },
    {
      "cell_type": "markdown",
      "metadata": {
        "id": "GPPfTOLke7d0"
      },
      "source": [
        "---\n",
        "### **Problem 1**\n",
        "\n",
        "A generator bus (with a 1.0 per unit voltage) supplies a 180 MW, 60 Mvar load through a lossless transmission line with per unit (100 MVA base) impedance of `j0.1` and no line charging. This is a simple two-bus system.\n",
        "*   **Bus 1:** Generator (Slack Bus), `V₁ = 1.0∠0°` p.u.\n",
        "*   **Bus 2:** Load Bus, `S_L = 1.8 + j0.6` p.u.\n",
        "\n",
        "Starting with an initial voltage guess of `V₂ = 1.0∠0°`, iterate until converged using the Newton-Raphson power flow method. For convergence criteria, use a maximum power flow mismatch (`ΔP` or `ΔQ`) of 0.001 p.u. (equivalent to 0.1 MVA on a 100 MVA base).\n",
        "\n",
        "**Guidance:**\n",
        "*   The unknowns are `δ₂` and `|V₂|`. Your Jacobian will be a 2x2 matrix.\n",
        "*   **Step 1:** Build the 2x2 Ybus matrix for this system.\n",
        "*   **Step 2:** Start a `for` loop for your iterations.\n",
        "*   **Step 3 (Inside Loop):** Calculate the power injections `P₂_calc` and `Q₂_calc` based on the current voltage estimates.\n",
        "*   **Step 4 (Inside Loop):** Calculate the mismatches `ΔP₂` and `ΔQ₂`. Check if `max(abs(ΔP₂), abs(ΔQ₂))` is less than your tolerance. If it is, `break` the loop.\n",
        "*   **Step 5 (Inside Loop):** Calculate the four elements of the 2x2 Jacobian matrix (`∂P₂/∂δ₂`, `∂P₂/∂|V₂|`, etc.).\n",
        "*   **Step 6 (Inside Loop):** Solve for the updates `[Δδ₂; Δ|V₂|] = J⁻¹ * [ΔP₂; ΔQ₂]`.\n",
        "*   **Step 7 (Inside Loop):** Update your voltage angle and magnitude: `δ₂ = δ₂ + Δδ₂` and `|V₂| = |V₂| + Δ|V₂|`. Print the results of each iteration.\n"
      ]
    },
    {
      "cell_type": "code",
      "execution_count": null,
      "metadata": {
        "vscode": {
          "languageId": "julia"
        },
        "id": "oQs0C31pe7d0"
      },
      "outputs": [],
      "source": [
        "# --- Problem 1 Solution ---\n",
        "using LinearAlgebra\n",
        "\n",
        "# --- Setup System Data ---\n",
        "# Define Ybus, Scheduled Powers, and Initial Voltages\n",
        "# ... YOUR CODE HERE ...\n",
        "\n",
        "\n",
        "# --- Iteration Loop ---\n",
        "println(\"--- Newton-Raphson Iterations ---\")\n",
        "println(\"Iter | V2_mag  | delta2_deg |   dP2    |   dQ2   \")\n",
        "println(\"--------------------------------------------------\")\n",
        "\n",
        "for i in 1:10 # Limit to 10 iterations to prevent infinite loops\n",
        "    # --- Step 1: Calculate Power Injections (P_calc, Q_calc) ---\n",
        "    # ... YOUR CODE HERE ...\n",
        "\n",
        "\n",
        "    # --- Step 2: Calculate Mismatches and Check for Convergence ---\n",
        "    # ... YOUR CODE HERE ...\n",
        "\n",
        "\n",
        "    # --- Step 3: Calculate the 2x2 Jacobian Matrix ---\n",
        "    # ... YOUR CODE HERE ...\n",
        "\n",
        "\n",
        "    # --- Step 4: Solve for Updates ---\n",
        "    # ... YOUR CODE HERE ...\n",
        "\n",
        "\n",
        "    # --- Step 5: Update Voltages ---\n",
        "    # ... YOUR CODE HERE ...\n",
        "\n",
        "\n",
        "    # --- Print Iteration Results ---\n",
        "    # ... YOUR CODE HERE ...\n",
        "\n",
        "end"
      ]
    },
    {
      "cell_type": "markdown",
      "metadata": {
        "id": "3JGW_rIqe7d0"
      },
      "source": [
        "\n",
        "---\n",
        "### **Problem 2**\n",
        "\n",
        "For a three-bus power system, assume bus 1 is the swing bus with a per unit voltage of `1.0∠0°`, bus 2 is a PQ bus with a per unit load of `2.0 + j0.5`, and bus 3 is a PV bus with 1.0 per unit generation and a 1.0 voltage setpoint. The per unit line impedances are `j0.1` between buses 1 and 2, `j0.4` between buses 1 and 3, and `j0.2` between buses 2 and 3. Using a flat start (`1.0∠0°`), use the Newton-Raphson approach to determine the **first iteration** phasor voltages at buses 2 and 3.\n",
        "\n",
        "**Guidance:**\n",
        "*   This is the same setup as the NR example from Lecture 11. You are only required to perform **one** full iteration.\n",
        "*   The unknowns are `δ₂`, `δ₃`, and `|V₂|`. The Jacobian will be 3x3.\n",
        "*   Follow the same logic as Problem 1: Build Ybus -> Calculate Mismatches -> Calculate 3x3 Jacobian -> Solve for Updates -> Update Voltages.\n",
        "*   You can reuse and adapt the code from the lecture notebook."
      ]
    },
    {
      "cell_type": "code",
      "execution_count": null,
      "metadata": {
        "vscode": {
          "languageId": "julia"
        },
        "id": "RDIqQL35e7d0"
      },
      "outputs": [],
      "source": [
        "# --- Problem 2 Solution ---\n",
        "\n",
        "# --- Setup System Data ---\n",
        "# Define Ybus, Scheduled Powers, and Initial Voltages\n",
        "# ... YOUR CODE HERE ...\n",
        "\n",
        "\n",
        "# --- Calculate Mismatches for Iteration 0 ---\n",
        "# ... YOUR CODE HERE ...\n",
        "\n",
        "\n",
        "# --- Calculate the 3x3 Jacobian Matrix for Iteration 0 ---\n",
        "# ... YOUR CODE HERE ...\n",
        "\n",
        "\n",
        "# --- Solve for the Update Vector ---\n",
        "# ... YOUR CODE HERE ...\n",
        "\n",
        "\n",
        "# --- Calculate the Voltages at the End of Iteration 1 ---\n",
        "# ... YOUR CODE HERE ...\n",
        "\n",
        "\n",
        "println(\"--- Results after 1 Iteration ---\")\n",
        "# Print V2_final and V3_final in polar form\n",
        "# ... YOUR CODE HERE ..."
      ]
    },
    {
      "cell_type": "markdown",
      "metadata": {
        "id": "3PeGGYEve7d0"
      },
      "source": [
        "\n",
        "\n",
        "---\n",
        "### **Problem 3**\n",
        "\n",
        "Manually solve the power flow for the following network using the Newton-Raphson approach. Use a 100 MVA base.\n",
        "*   **Bus 1:** Slack bus, `V = 1.0∠0°` p.u.\n",
        "*   **Bus 2:** PV bus, `P_G = 80 MW`, `|V| = 1.0` p.u.\n",
        "*   **Bus 3:** PQ bus, `P_L = 180 MW`, `Q_L = 0` (assumed).\n",
        "*   Each of the three transmission lines has an impedance of `0.05 + j0.1` p.u.\n",
        "\n",
        "Iterate until the convergence criteria of 0.1 MVA (0.001 p.u.) is met. Show all your work by printing the results of each iteration. Then, verify your final converged solution by solving the case with `PowerModels.jl`.\n",
        "\n",
        "**Guidance:**\n",
        "*   This is a full implementation of the NR loop, similar to Problem 1, but for a 3-bus system.\n",
        "*   The unknowns are `δ₂`, `δ₃`, and `|V₃|`. The Jacobian will be 3x3.\n",
        "*   The scheduled powers must be converted to per-unit: `P_G2 = 80/100 = 0.8` p.u., `P_L3 = 180/100 = 1.8` p.u.\n",
        "*   For verification, you will need to create a `PowerModels.jl` case dictionary that represents this system and then call `solve_ac_pf`.\n"
      ]
    },
    {
      "cell_type": "code",
      "execution_count": null,
      "metadata": {
        "vscode": {
          "languageId": "julia"
        },
        "id": "NtmOOk4Te7d1"
      },
      "outputs": [],
      "source": [
        "# --- Problem 3 Solution ---\n",
        "\n",
        "# --- Part A: Manual Newton-Raphson Implementation ---\n",
        "\n",
        "# --- Setup System Data ---\n",
        "# Define Ybus, Scheduled Powers, and Initial Voltages\n",
        "# ... YOUR CODE HERE ...\n",
        "\n",
        "\n",
        "# --- Iteration Loop ---\n",
        "println(\"--- Manual Newton-Raphson Iterations ---\")\n",
        "# ... (Use a similar loop structure as Problem 1) ...\n",
        "# YOUR CODE HERE to implement the full NR loop\n",
        "\n",
        "\n",
        "# --- Part B: Verification with PowerModels.jl ---\n",
        "\n",
        "# --- Create the PowerModels Case Dictionary ---\n",
        "case_p3 = Dict(\n",
        "    \"source_type\" => \"dict\",\n",
        "    \"baseMVA\" => 100.0,\n",
        "    # Define the \"bus\", \"branch\", \"gen\", and \"load\" dictionaries\n",
        "    # ... YOUR CODE HERE ...\n",
        ")\n",
        "\n",
        "# --- Solve with PowerModels.jl ---\n",
        "using PowerModels, Ipopt\n",
        "result_p3 = ... # YOUR CODE HERE: solve_ac_pf(...)\n",
        "\n",
        "println(\"\\n--- PowerModels.jl Verification ---\")\n",
        "# Print the solution for V2 and V3 from the 'result_p3' dictionary\n",
        "# ... YOUR CODE HERE ..."
      ]
    },
    {
      "cell_type": "markdown",
      "metadata": {
        "id": "fXgOGQiMe7d1"
      },
      "source": [
        "\n",
        "---\n",
        "### **Problem 4: The System Under Stress**\n",
        "\n",
        "You are a planning engineer. The standard IEEE 14-bus system is experiencing heavy summer loading (all loads are increased by 20%). A critical generator (the one at Bus 2) has also tripped offline.\n",
        "\n",
        "(a) Run a power flow on this \"stressed\" 14-bus case and identify any bus voltage magnitudes that are below the emergency limit of **0.94 p.u.**\n",
        "\n",
        "(b) Propose and implement a **control action** to fix the lowest voltage violation. Your goal is to bring all bus voltages back above 0.94 p.u. A good first step is to add a shunt capacitor bank at the bus with the lowest voltage. You may need to try different sizes for the capacitor.\n",
        "\n",
        "(c) Run the power flow again on your \"fixed\" case and present a final report showing that all voltage violations have been resolved.\n",
        "\n",
        "**Guidance:**\n",
        "*   This problem uses the skills from the Lecture 12 workshop.\n",
        "*   You will load the built-in `case14.m` file.\n",
        "*   Create a `deepcopy` of the case data to create your \"stressed\" version.\n",
        "*   To model the generator trip, set the `gen_status` of the generator at bus 2 to `0`.\n",
        "*   To add a shunt capacitor, you will modify the `bs` value of the bus with the lowest voltage.\n"
      ]
    },
    {
      "cell_type": "code",
      "execution_count": null,
      "metadata": {
        "vscode": {
          "languageId": "julia"
        },
        "id": "wjcu7CP5e7d1"
      },
      "outputs": [],
      "source": [
        "# --- Problem 4 Solution ---\n",
        "using PowerModels, Ipopt\n",
        "\n",
        "# --- Step 1 (Part a): Analyze the Stressed Case ---\n",
        "# Load the case14.m file\n",
        "case_14bus = ... # YOUR CODE HERE\n",
        "\n",
        "# Create the \"stressed\" case by deepcopying, scaling loads, and tripping the generator at bus 2\n",
        "case_stressed = ... # YOUR CODE HERE\n",
        "\n",
        "# Solve the power flow for the stressed case\n",
        "result_stressed = ... # YOUR CODE HERE\n",
        "\n",
        "println(\"--- Part (a): Stressed System Voltage Report ---\")\n",
        "# Write a loop to print the voltages and identify any below 0.94 p.u.\n",
        "# Keep track of the bus with the lowest voltage.\n",
        "# ... YOUR CODE HERE ...\n",
        "\n",
        "\n",
        "# --- Step 2 (Part b): Propose and Implement a Fix ---\n",
        "# Create a new copy of the stressed case for your fix\n",
        "case_fixed = ... # YOUR CODE HERE\n",
        "\n",
        "# Add a shunt capacitor (positive 'bs') at the bus you identified\n",
        "# You may need to experiment with the size of 'bs'. Start with 0.2 p.u.\n",
        "bus_to_fix = \"...\" # The bus number with the lowest voltage\n",
        "capacitor_size_pu = ... # Your chosen size\n",
        "# ... YOUR CODE HERE to modify the case_fixed dictionary ...\n",
        "\n",
        "\n",
        "# --- Step 3 (Part c): Verify the Solution ---\n",
        "# Solve the power flow for your \"fixed\" case\n",
        "result_fixed = ... # YOUR CODE HERE\n",
        "\n",
        "println(\"\\n--- Part (c): Final Corrected System Voltage Report ---\")\n",
        "# Write a final loop to print the new voltages and confirm all are above 0.94 p.u.\n",
        "# ... YOUR CODE HERE ..."
      ]
    }
  ],
  "metadata": {
    "language_info": {
      "name": "python"
    },
    "colab": {
      "provenance": [],
      "include_colab_link": true
    }
  },
  "nbformat": 4,
  "nbformat_minor": 0
}