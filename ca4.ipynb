{
  "cells": [
    {
      "cell_type": "markdown",
      "metadata": {
        "id": "view-in-github",
        "colab_type": "text"
      },
      "source": [
        "<a href=\"https://colab.research.google.com/github/DevanMayer/EE-480-Assignments/blob/main/ca4.ipynb\" target=\"_parent\"><img src=\"https://colab.research.google.com/assets/colab-badge.svg\" alt=\"Open In Colab\"/></a>"
      ]
    },
    {
      "cell_type": "markdown",
      "metadata": {
        "id": "GFWOt43EOEW_"
      },
      "source": [
        "# **EE 480 - Coding Assignment #4: Building the Ybus Matrix**\n",
        "\n",
        "**Instructor:** Dr. Saeed Manshadi\n",
        "\n",
        "**Due Date:** September 30, 2025\n",
        "\n",
        "### **Instructions**\n",
        "\n",
        "This assignment focuses on the fundamental skill of constructing the bus admittance matrix (Ybus), which is the foundation for all power flow studies. You will apply the \"rules of inspection\" to build the Ybus for two different power systems.\n",
        "\n",
        "\n",
        "**Submission:**\n",
        "*   Please follow the submission instructions provided on Canvas to save your completed notebook back to your private GitHub repository.\n",
        "\n",
        "\n",
        "---\n",
        "### **Problem 1**\n",
        "\n",
        "Determine the bus admittance matrix **Ybus** for the five-bus power system shown in the Figure. Use the input data given in Table 1. The partially completed Ybus below is provided to help you check your work. Assume a three-phase 100 MVA per unit base.\n",
        "\n",
        "<img src=\"https://i.imgur.com/bVPNYkH.png\" width=400>\n",
        "\n",
        "\n",
        "**Guidance:**\n",
        "*   This is a direct application of building the Ybus \"by inspection\".\n",
        "*   The data in Table 1 gives you the **series impedance** (`z = R + jX`) and the **total shunt susceptance** (`B`) for each line. The total shunt admittance is `y_sh = jB`. Remember that the shunt admittance is split in half at each end of the line in the π-model.\n",
        "*   **Step 1:** For each line, calculate its series admittance `y_series = 1 / z_series`.\n",
        "*   **Step 2:** Initialize a 5x5 matrix of complex zeros for your Ybus.\n",
        "*   **Step 3:** Populate the **off-diagonal** elements using the rule `Y_ij = -y_series_ij`.\n",
        "*   **Step 4:** Populate the **diagonal** elements using the rule `Y_ii = Σ y_series_ik + Σ y_shunt_i`. The total shunt admittance at a bus is the sum of the `B/2` contributions from every line connected to it."
      ]
    },
    {
      "cell_type": "code",
      "execution_count": 1,
      "metadata": {
        "vscode": {
          "languageId": "julia"
        },
        "colab": {
          "base_uri": "https://localhost:8080/",
          "height": 141
        },
        "id": "E-W4eSC3OEXA",
        "outputId": "3ba217d1-7fe6-4dc3-9d87-41690a28d887"
      },
      "outputs": [
        {
          "output_type": "error",
          "ename": "LoadError",
          "evalue": "ParseError:\n\u001b[90m# Error @ \u001b[0;0m\u001b]8;;file:///content/In[1]#52:14\u001b\\\u001b[90mIn[1]:52:14\u001b[0;0m\u001b]8;;\u001b\\\nYbus[4, 4] = \nYbus[5, 5] = \u001b[48;2;120;70;70m...\u001b[0;0m # YOUR CODE HERE\n\u001b[90m#            └─┘ ── \u001b[0;0m\u001b[91minvalid identifier\u001b[0;0m",
          "traceback": [
            "ParseError:\n\u001b[90m# Error @ \u001b[0;0m\u001b]8;;file:///content/In[1]#52:14\u001b\\\u001b[90mIn[1]:52:14\u001b[0;0m\u001b]8;;\u001b\\\nYbus[4, 4] = \nYbus[5, 5] = \u001b[48;2;120;70;70m...\u001b[0;0m # YOUR CODE HERE\n\u001b[90m#            └─┘ ── \u001b[0;0m\u001b[91minvalid identifier\u001b[0;0m",
            "",
            "Stacktrace:",
            " [1] top-level scope",
            "\u001b[90m   @\u001b[39m \u001b[90m\u001b[4mIn[1]:52\u001b[24m\u001b[39m"
          ]
        }
      ],
      "source": [
        "# --- Problem 1 Solution ---\n",
        "using LinearAlgebra\n",
        "\n",
        "# --- Given Data from Table 1 ---\n",
        "# Branch series impedances (R + jX)\n",
        "z12 = 0.02 + 0.06*im\n",
        "z13 = 0.08 + 0.24*im\n",
        "z23 = 0.06 + 0.18*im\n",
        "z24 = 0.08 + 0.24*im\n",
        "z25 = 0.02 + 0.06*im\n",
        "z34 = 0.01 + 0.04*im\n",
        "z45 = 0.03 + 0.10*im\n",
        "\n",
        "# Branch total shunt susceptances (B). Admittance is y_sh = jB\n",
        "B12 = 0.06\n",
        "B13 = 0.05\n",
        "B23 = 0.04\n",
        "B24 = 0.05\n",
        "B25 = 0.02\n",
        "B34 = 0.01\n",
        "B45 = 0.04\n",
        "\n",
        "# --- Step 1: Calculate Series Admittances ---\n",
        "y12 = 1/z12\n",
        "y13 = 1/z13\n",
        "y23 = 1/z23\n",
        "y24 = 1/z24\n",
        "y25 = 1/z25\n",
        "y34 = 1/z34\n",
        "y45 = 1/z45\n",
        "\n",
        "# --- Step 2: Initialize Ybus ---\n",
        "N = 5\n",
        "Ybus = zeros(Complex{Float64}, N, N)\n",
        "\n",
        "# --- Step 3: Populate Off-Diagonal Elements ---\n",
        "Ybus[1, 2] = Ybus[2, 1] = -y12\n",
        "Ybus[1, 3] = Ybus[3, 1] = -y13\n",
        "Ybus[2, 3] = Ybus[3, 2] = -y23\n",
        "Ybus[2, 4] = Ybus[4, 2] = -y24\n",
        "Ybus[2, 5] = Ybus[5, 2] = -y25\n",
        "Ybus[3, 4] = Ybus[4, 3] = -y34\n",
        "Ybus[4, 5] = Ybus[5, 4] = -y45\n",
        "\n",
        "# --- Step 4: Populate Diagonal Elements ---\n",
        "# Y_ii = (sum of series admittances connected to bus i) + (sum of shunt admittances at bus i)\n",
        "# Remember that the shunt B is split, so each bus gets B/2 from a connected line.\n",
        "Ybus[1, 1] = y12 + y13 + im*B12/2 + im*B13/2\n",
        "Ybus[2, 2] = y12 + y23 + y24 + y25 + im*(B12/2 + B23/2 + B24/2 + B25/2)\n",
        "Ybus[3, 3] = y13+y23+y34+im*(B13/2 + B23/2 + B34/2)\n",
        "Ybus[4, 4] = y24+y34+y45+im*(B24/2 +B34/2 +B45/2)\n",
        "Ybus[5, 5] = y25+y45+im*(B25/2 +B45/2)\n",
        "\n",
        "println(\"--- Final Ybus Matrix for Problem 1 ---\")\n",
        "# Use the show function to display the full matrix without truncation\n",
        "show(IOContext(stdout, :limit => false), \"text/plain\", round.(Ybus, digits=4))"
      ]
    },
    {
      "cell_type": "markdown",
      "metadata": {
        "id": "sKWmXBe4OEXA"
      },
      "source": [
        "\n",
        "---\n",
        "### **Problem 2**\n",
        "\n",
        "For the three-bus system shown below, the bus admittances are given in per-unit. Determine the type of each bus and edit the markdown file\n",
        "\n",
        "*   **Bus 1 (Type:?                ):** `V₁ = 1.0∠0°` p.u.\n",
        "*   **Bus 2 (Type:?                ):** `P₂ = 1.5` p.u., `|V₂| = 1.1` p.u.\n",
        "*   **Bus 3 (Type:?                ):** `P₃ = -1.5` p.u., `Q₃ = 0.8` p.u.\n",
        "\n",
        "Determine the bus admittance matrix **Ybus** for this system.\n",
        "\n",
        "<img src=\"https://i.imgur.com/xeyCiDy.png\" width=400>\n",
        "\n",
        "**Guidance:**\n",
        "*   This problem is simpler because the admittances are given directly.\n",
        "*   There are no shunt elements shown other than the load itself, which we do not include in the Ybus. The Ybus represents the physical network connections, not the injections.\n",
        "*   Follow the same \"rules of inspection\" as in Problem 1."
      ]
    },
    {
      "cell_type": "code",
      "execution_count": null,
      "metadata": {
        "vscode": {
          "languageId": "julia"
        },
        "id": "b4EF2_ltOEXA"
      },
      "outputs": [],
      "source": [
        "\n",
        "\n",
        "# --- Problem 2 Solution ---\n",
        "\n",
        "# --- Given Admittances ---\n",
        "y12 = 2.0 - 4.0im\n",
        "y13 = 3.0 - 6.0im\n",
        "\n",
        "# --- Step 1: Initialize Ybus ---\n",
        "N = 3\n",
        "Ybus_p2 = zeros(Complex{Float64}, N, N)\n",
        "\n",
        "# --- Step 2: Populate Off-Diagonal Elements ---\n",
        "# Note: There is no direct connection between bus 2 and 3\n",
        "Ybus_p2[1, 2] = Ybus_p2[2, 1] = -y12\n",
        "Ybus_p2[1, 3] = Ybus_p2[3, 1] = ... # YOUR CODE HERE\n",
        "Ybus_p2[2, 3] = Ybus_p2[3, 2] = 0.0 # No connection\n",
        "\n",
        "# --- Step 3: Populate Diagonal Elements ---\n",
        "Ybus_p2[1, 1] = y12 + y13\n",
        "Ybus_p2[2, 2] = ... # YOUR CODE HERE\n",
        "Ybus_p2[3, 3] = ... # YOUR CODE HERE\n",
        "\n",
        "println(\"--- Final Ybus Matrix for Problem 2 ---\")\n",
        "show(IOContext(stdout, :limit => false), \"text/plain\", round.(Ybus_p2, digits=4))"
      ]
    }
  ],
  "metadata": {
    "language_info": {
      "name": "julia"
    },
    "colab": {
      "provenance": [],
      "include_colab_link": true
    },
    "kernelspec": {
      "name": "julia",
      "display_name": "Julia"
    }
  },
  "nbformat": 4,
  "nbformat_minor": 0
}