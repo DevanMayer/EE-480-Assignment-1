{
  "cells": [
    {
      "cell_type": "markdown",
      "metadata": {
        "id": "r21nMUVSNl32"
      },
      "source": [
        "# Part 1 - **Challenge Assignment: Modern Power System Issues**\n",
        "\n",
        "[3 points] Please conduct your investigation over a challenge of the modern power grid. It could be further exploration of topics covered in this module or any other similar challenge our modern power grid is facing. Please submit a two-page report with proper references on an important emerging challenge, provide a deep discussion over the concern, and assess the short-term and long-term implications of the issue. Finally, propose your solution to resolve the challenge.\n",
        "\n",
        "\n",
        "\n",
        "Grading rubric:\n",
        "\n",
        "1) Importance of the topic and impact on consumer [20%]\n",
        "\n",
        "2) The depth of discussion and originality of points raised [30%]\n",
        "\n",
        "3) Impact assessment and long-term implications [20%]\n",
        "\n",
        "4) The effectiveness of the proposed solution to overcome the challenge [30%]\n",
        "\n",
        "5) Present your case in a short 5 minutes video and share the link [25% bonus]"
      ]
    },
    {
      "cell_type": "markdown",
      "metadata": {
        "id": "gIZp-LdpNl33"
      },
      "source": [
        "## Your Response for part 1 goes here:\n",
        "\n",
        "..."
      ]
    },
    {
      "cell_type": "markdown",
      "metadata": {
        "id": "IJPgAgnvNl33"
      },
      "source": [
        "# Part 2 - **Coding Assignment: Complex Power & Three-Phase Analysis**\n",
        "[3 points]\n",
        "\n",
        "\n",
        "### **Instructions**\n",
        "\n",
        "This assignment will test your understanding of complex power, power factor correction, and balanced three-phase systems. All solutions must be calculated using **Julia** within this notebook.\n",
        "\n",
        "**Working in Google Colab:**\n",
        "*   This notebook is designed to be completed in Google Colab/VSCode to ensure a consistent environment for everyone.\n",
        "*   **CRITICAL FIRST STEP:** You must run the setup cell below to install the Julia kernel. After it finishes, you **MUST** restart the runtime by clicking **\"Runtime\" -> \"Restart runtime\"** in the menu above and Select *Julia* as your Kernel.\n",
        "\n",
        "**Submission:**\n",
        "*   Please follow the detailed submission instructions provided on Canvas. You will be saving your completed notebook back to your private GitHub repository using the Colab interface or integrate it inside VSCode."
      ]
    },
    {
      "cell_type": "markdown",
      "metadata": {
        "id": "fIUTVWJbNl33"
      },
      "source": [
        "### **Problem 1**\n",
        "\n",
        "Two balanced three-phase loads are in parallel.\n",
        "*   Load 1 draws 10 kW at 0.8 PF lagging.\n",
        "*   Load 2 draws 20 kVA at 0.6 PF leading.\n",
        "\n",
        "The loads are supplied by a balanced three-phase 480 V (line-to-line) source.\n",
        "\n",
        "(a) Determine the PF of the combined load.\n",
        "\n",
        "(b) Determine the magnitude of the line current from the source.\n",
        "\n",
        "(c) Y-connected inductors are now installed in parallel with the combined load. What value of inductive reactance is needed in each leg of the Y to make the source power factor unity?\n",
        "\n",
        "**Guidance:**\n",
        "*   Complex power is additive. First, calculate the complex power `S1` and `S2` for each load. Remember that a lagging PF means `Q` is positive, and a leading PF means `Q` is negative.\n",
        "*   Add them to get `Stotal = S1 + S2`.\n",
        "*   From `Stotal`, you can find the combined PF.\n",
        "*   Use the formula `|S_3ph| = sqrt(3) * V_LL * I_L` to find the line current.\n",
        "*   For part (d), unity power factor means the total reactive power `Q_total_new` is 0. The inductors must supply reactive power to cancel out the combined load's `Q`. Remember that inductors *consume* Q."
      ]
    },
    {
      "cell_type": "code",
      "execution_count": 2,
      "metadata": {
        "id": "IMeLlEksNl33",
        "colab": {
          "base_uri": "https://localhost:8080/"
        },
        "outputId": "8c7c7b07-086a-498b-876c-5ad1805d3d0e"
      },
      "outputs": [
        {
          "output_type": "execute_result",
          "data": {
            "text/plain": [
              "480.0"
            ]
          },
          "metadata": {},
          "execution_count": 2
        }
      ],
      "source": [
        "# --- Problem 1 Solution ---\n",
        "\n",
        "# Given Data\n",
        "P1 = 10e3  # W\n",
        "pf1 = 0.8  # lagging\n",
        "S2_mag = 20e3 # VA\n",
        "pf2 = 0.6  # leading\n",
        "V_LL = 480.0 # V\n",
        "\n"
      ]
    },
    {
      "cell_type": "code",
      "execution_count": 5,
      "metadata": {
        "id": "Xool2ML8Nl34",
        "colab": {
          "base_uri": "https://localhost:8080/"
        },
        "outputId": "44a70d48-f6b8-4a51-918f-64ceffb06c8d"
      },
      "outputs": [
        {
          "output_type": "execute_result",
          "data": {
            "text/plain": [
              "28000.0 - 0.0im"
            ]
          },
          "metadata": {},
          "execution_count": 5
        }
      ],
      "source": [
        "# --- Part (a): Combined Load and PF ---\n",
        "\n",
        "# Calculate S1\n",
        "phi1 = acos(pf1) # Angle for lagging PF is positive\n",
        "S1 =(P1/pf1)*cos(phi1)+im*(P1/pf1)*sin(phi1)\n",
        "Q1 = im*(P1/pf1)*sin(phi1)\n",
        "\n",
        "# Calculate S2\n",
        "phi2 = -acos(pf2) # Angle for leading PF is negative\n",
        "P2 = cos(phi2)*S2_mag\n",
        "Q2 = im*sin(phi2)*S2_mag\n",
        "S2 = P2 + im*Q2"
      ]
    },
    {
      "cell_type": "code",
      "execution_count": 7,
      "metadata": {
        "id": "lib0gv7cNl34",
        "outputId": "6597be3b-37a9-41f4-c7fb-d5f40a51fca6",
        "colab": {
          "base_uri": "https://localhost:8080/",
          "height": 384
        }
      },
      "outputs": [
        {
          "output_type": "error",
          "ename": "LoadError",
          "evalue": "MethodError: no method matching isless(::Int64, ::ComplexF64)\nThe function `isless` exists, but no method is defined for this combination of argument types.\n\n\u001b[0mClosest candidates are:\n\u001b[0m  isless(\u001b[91m::Missing\u001b[39m, ::Any)\n\u001b[0m\u001b[90m   @\u001b[39m \u001b[90mBase\u001b[39m \u001b[90m\u001b[4mmissing.jl:87\u001b[24m\u001b[39m\n\u001b[0m  isless(::Any, \u001b[91m::Missing\u001b[39m)\n\u001b[0m\u001b[90m   @\u001b[39m \u001b[90mBase\u001b[39m \u001b[90m\u001b[4mmissing.jl:88\u001b[24m\u001b[39m\n\u001b[0m  isless(::Real, \u001b[91m::AbstractFloat\u001b[39m)\n\u001b[0m\u001b[90m   @\u001b[39m \u001b[90mBase\u001b[39m \u001b[90m\u001b[4moperators.jl:179\u001b[24m\u001b[39m\n\u001b[0m  ...\n",
          "traceback": [
            "MethodError: no method matching isless(::Int64, ::ComplexF64)\nThe function `isless` exists, but no method is defined for this combination of argument types.\n\n\u001b[0mClosest candidates are:\n\u001b[0m  isless(\u001b[91m::Missing\u001b[39m, ::Any)\n\u001b[0m\u001b[90m   @\u001b[39m \u001b[90mBase\u001b[39m \u001b[90m\u001b[4mmissing.jl:87\u001b[24m\u001b[39m\n\u001b[0m  isless(::Any, \u001b[91m::Missing\u001b[39m)\n\u001b[0m\u001b[90m   @\u001b[39m \u001b[90mBase\u001b[39m \u001b[90m\u001b[4mmissing.jl:88\u001b[24m\u001b[39m\n\u001b[0m  isless(::Real, \u001b[91m::AbstractFloat\u001b[39m)\n\u001b[0m\u001b[90m   @\u001b[39m \u001b[90mBase\u001b[39m \u001b[90m\u001b[4moperators.jl:179\u001b[24m\u001b[39m\n\u001b[0m  ...\n",
            "",
            "Stacktrace:",
            " [1] \u001b[0m\u001b[1m<\u001b[22m\u001b[0m\u001b[1m(\u001b[22m\u001b[90mx\u001b[39m::\u001b[0mInt64, \u001b[90my\u001b[39m::\u001b[0mComplexF64\u001b[0m\u001b[1m)\u001b[22m",
            "\u001b[90m   @\u001b[39m \u001b[90mBase\u001b[39m \u001b[90m./\u001b[39m\u001b[90m\u001b[4moperators.jl:353\u001b[24m\u001b[39m",
            " [2] \u001b[0m\u001b[1m>\u001b[22m\u001b[0m\u001b[1m(\u001b[22m\u001b[90mx\u001b[39m::\u001b[0mComplexF64, \u001b[90my\u001b[39m::\u001b[0mInt64\u001b[0m\u001b[1m)\u001b[22m",
            "\u001b[90m   @\u001b[39m \u001b[90mBase\u001b[39m \u001b[90m./\u001b[39m\u001b[90m\u001b[4moperators.jl:379\u001b[24m\u001b[39m",
            " [3] top-level scope",
            "\u001b[90m   @\u001b[39m \u001b[90m\u001b[4mIn[7]:9\u001b[24m\u001b[39m"
          ]
        }
      ],
      "source": [
        "# Calculate total complex power\n",
        "S_total = S1 + S2\n",
        "P_total = P1+P2\n",
        "Q_total = Q1+Q2\n",
        "S_total_mag = S2_mag + sqrt((P1^2)+(((P1/pf1)*sin(phi1))^2))\n",
        "\n",
        "# Calculate combined power factor\n",
        "pf_combined = P_total / S_total_mag\n",
        "pf_type = Q_total > 0 ? \"lagging\" : \"leading\"\n",
        "\n",
        "println(\"--- Parts (a) ---\")\n",
        "println(\"S1 = \", round(P1/1000, 1), \" kW + j\", round(Q1/1000, 1), \" kVAR\")\n",
        "println(\"S2 = \", round(P2/1000, 1), \" kW + j\", round(Q2/1000, 1), \" kVAR\")\n",
        "println(\"Combined Load (Stotal) = \", round(P_total/1000, 1), \" kW + j\", round(Q_total/1000, 1), \" kVAR\")\n",
        "println(\"The combined Power Factor is: \", round(pf_combined, 3), \" \", pf_type)\n",
        "\n",
        "\n",
        "# --- Part (b): Line Current ---\n",
        "I_L_mag = S_total_mag/V_LL\n",
        "println(\"\\n--- Part (b) ---\")\n",
        "println(\"The magnitude of the line current is: \", round(I_L_mag, 1), \" A\")\n",
        "\n",
        "# --- Part (c): PF Correction ---\n",
        "# To reach unity PF, the new total Q must be 0.\n",
        "# The inductors must consume reactive power equal to |Q_total|\n",
        "Q_inductors_total =  Q_total     # Total Q needed from the 3 inductors\n",
        "\n",
        "# This is the total for 3 phases, so Q per phase is:\n",
        "Q_per_phase_inductor = Q_total/(sqrt(3))\n",
        "\n",
        "# For a Y-connected element, Q_ph = V_ph² / X_ph\n",
        "V_ph =\n",
        "X_L =\n",
        "\n",
        "println(\"\\n--- Part (c) ---\")\n",
        "println(\"The combined load generates \", round(-Q_total/1000, 1), \" kVAR.\")\n",
        "println(\"The Y-connected inductors must consume this amount.\")\n",
        "println(\"Inductive reactance needed per phase (X_L) = \", round(X_L, 1), \" Ω\")"
      ]
    },
    {
      "cell_type": "markdown",
      "metadata": {
        "id": "M_8JZO9GNl34"
      },
      "source": [
        "### **Problem 2**\n",
        "\n",
        "The circuit shown below is a balanced three phase system with a wye-connected generator producing 1 volt (phase to neutral). Assume that each inductor has an impedance `Z_L = j10` Ohm and each capacitor `Z_C = -j15` Ohm. Determine `Ia`, `Icap`, and the total three phase complex power supplied by the y-connected voltage source.\n",
        "\n",
        "<img src=\"https://i.imgur.com/JAqXmo9.png\" width=\"500\">\n",
        "\n",
        "**Guidance:**\n",
        "*   This is a balanced system, so you can solve it using **per-phase analysis**.\n",
        "*   Draw the single-phase equivalent circuit for phase 'a'. It will have the `1∠0°` V source, one `j1` ohm inductor, and the phase 'a' portion of the delta-connected capacitor bank.\n",
        "*   **Convert the Δ-connected capacitor bank to an equivalent Y-connection.** Remember `Z_Y = Z_Δ / 3`.\n",
        "*   Now you have a simple series-parallel circuit for phase 'a'. Solve for `Ia`.\n",
        "*   To find `Icap`, you need the line-to-line voltage across the capacitor bank.\n",
        "*   Total power is `S_3ph = 3 * V_an * Ia*`."
      ]
    },
    {
      "cell_type": "code",
      "execution_count": 4,
      "metadata": {
        "id": "hX-NTDh4Nl34",
        "colab": {
          "base_uri": "https://localhost:8080/",
          "height": 141
        },
        "outputId": "5dc4a4a0-d8b4-48d0-ce75-f511d673be8d"
      },
      "outputs": [
        {
          "output_type": "error",
          "ename": "LoadError",
          "evalue": "UndefVarError: `Z_line` not defined in `Main`\nSuggestion: check for spelling errors or missing imports.",
          "traceback": [
            "UndefVarError: `Z_line` not defined in `Main`\nSuggestion: check for spelling errors or missing imports.",
            "",
            "Stacktrace:",
            " [1] top-level scope",
            "\u001b[90m   @\u001b[39m \u001b[90m\u001b[4mIn[4]:11\u001b[24m\u001b[39m"
          ]
        }
      ],
      "source": [
        "# --- Problem 2 Solution ---\n",
        "\n",
        "# Given Data (Per-Phase 'a' values)\n",
        "V_an = 1.0 + 0.0im # 1∠0° V\n",
        "Z_L = 1.0im        # j1 Ohm (from diagram)\n",
        "Z_C_delta = -15.0im  # -j15 Ohm\n",
        "\n",
        "# --- Per-Phase Analysis ---\n",
        "\n",
        "# Step 1: Convert the Delta-connected capacitors to an equivalent Y\n",
        "Z_C_wye =\n",
        "\n",
        "# Step 2: Solve the single-phase 'a' circuit\n",
        "# The load is now the wye-equivalent capacitor in parallel with the inductor load path.\n",
        "# However, the diagram shows the inductor ZL is in series with the delta load.\n",
        "# Let's assume the j1 inductors are line impedances.\n",
        "Z_line =\n",
        "Z_load =\n",
        "\n",
        "# The total impedance of phase 'a' is the line impedance in series with the load\n",
        "Z_total_a = Z_line + Z_load\n",
        "\n",
        "# Calculate Ia\n",
        "I_a =\n",
        "\n",
        "println(\"--- Part (a): Ia ---\")\n",
        "println(\"Ia (Rectangular) = \", I_a, \" A\")\n",
        "println(\"Ia (Polar) = \", abs(I_a), \" ∠ \", rad2deg(angle(I_a)), \"° A\")\n",
        "\n",
        "# --- Part (b): Icap ---\n",
        "# Icap is the current through one leg of the DELTA capacitor bank.\n",
        "# It depends on the line-to-line voltage at the load.\n",
        "V_bn =\n",
        "V_a_load =\n",
        "V_b_load = (V_bn / Z_total_a) * Z_load # Assuming balanced current\n",
        "V_ab_load =\n",
        "I_cap = V_ab_load / Z_C_delta\n",
        "\n",
        "println(\"\\n--- Part (b): Icap ---\")\n",
        "# This is complex, a simpler way is to recognize Icap is just the phase current in the delta load.\n",
        "# Let's re-solve by finding voltage at the load bus first.\n",
        "V_load_neutral =\n",
        "# Then find line-line voltage at the load\n",
        "V_load_b_neutral = V_load_neutral * (cos(deg2rad(-120)) + im*sin(deg2rad(-120)))\n",
        "V_load_ab =\n",
        "I_cap =\n",
        "println(\"Icap (Polar) = \", abs(I_cap), \" ∠ \", rad2deg(angle(I_cap)), \"° A\")\n",
        "\n",
        "\n",
        "# --- Part (c): Total Complex Power ---\n",
        "S_total_3ph =\n",
        "\n",
        "println(\"\\n--- Part (c): Total Power ---\")\n",
        "println(\"Total 3-Phase Power Supplied = \", real(S_total_3ph), \" W + j\", imag(S_total_3ph), \" var\")"
      ]
    },
    {
      "cell_type": "markdown",
      "metadata": {
        "id": "ejikgtLCNl34"
      },
      "source": [
        "### **Problem 3**\n",
        "\n",
        "For the entire circuit in Fig. below, calculate:\n",
        "(a) the power factor\n",
        "(b) the average power delivered by the source\n",
        "(c) the reactive power\n",
        "(d) the apparent power\n",
        "(e) the complex power\n",
        "\n",
        "<img src=\"https://i.imgur.com/bOy35MO.png\" width=\"500\">\n",
        "\n",
        "**Guidance:**\n",
        "*   The key to this problem is to find the **total equivalent impedance (`Z_total`)** seen by the source.\n",
        "*   The `1 Ω` resistor is in parallel with the `-j4 Ω` capacitor. Let's call this `Z_p1`.\n",
        "*   The `2 Ω` resistor is in parallel with the `j7 Ω` inductor. Let's call this `Z_p2`.\n",
        "*   The total impedance of the load is `Z_load = Z_p1 + Z_p2`.\n",
        "*   The total impedance of the entire circuit is `Z_total = 0.33 Ω + Z_load`.\n",
        "*   Once you have `Z_total`, you can find the total current `I = V / Z_total`.\n",
        "*   From `V` and `I`, you can calculate the complex power `S = V * I*`. All other quantities (P, Q, |S|, pf) can be found directly from `S`.\n"
      ]
    },
    {
      "cell_type": "code",
      "execution_count": 9,
      "metadata": {
        "id": "ZFatMtitNl34",
        "colab": {
          "base_uri": "https://localhost:8080/",
          "height": 211
        },
        "outputId": "b5b72677-9ed9-4fdf-fa0a-f7b1f95b3519"
      },
      "outputs": [
        {
          "output_type": "stream",
          "name": "stdout",
          "text": [
            "--- Impedance Calculations ---\n",
            "Z_p1 (parallel cap/res) = 1 - 4im Ω\n",
            "Z_p2 (parallel ind/res) = 2 + 7im Ω\n",
            "Z_total (entire circuit) = 5.163333333333333 - 5.166666666666667im Ω\n"
          ]
        },
        {
          "output_type": "error",
          "ename": "LoadError",
          "evalue": "UndefVarError: `V_total` not defined in `Main`\nSuggestion: check for spelling errors or missing imports.",
          "traceback": [
            "UndefVarError: `V_total` not defined in `Main`\nSuggestion: check for spelling errors or missing imports.",
            "",
            "Stacktrace:",
            " [1] top-level scope",
            "\u001b[90m   @\u001b[39m \u001b[90m\u001b[4mIn[9]:42\u001b[24m\u001b[39m"
          ]
        }
      ],
      "source": [
        "# --- Problem 3 Solution ---\n",
        "\n",
        "# Given Data\n",
        "V_source_polar = (62.0, 30.0) # (Magnitude, Angle in degrees)\n",
        "R_series = 0.33\n",
        "\n",
        "# Load Impedances\n",
        "Z1 = 1\n",
        "Z2 = -im*4\n",
        "Z3 = 2\n",
        "Z4 = im*7\n",
        "\n",
        "# --- Step 1: Calculate Total Equivalent Impedance ---\n",
        "\n",
        "# Calculate the parallel combination of Z1 and Z2\n",
        "Z_p1 = Z1+Z2\n",
        "\n",
        "# Calculate the parallel combination of Z3 and Z4\n",
        "Z_p2 = Z3+Z4\n",
        "\n",
        "# The total load impedance is the sum of these two parallel sections\n",
        "Z_load = (Z_p2*Z_p1)/(Z_p1+Z_p2)\n",
        "\n",
        "# The total circuit impedance includes the series resistor\n",
        "Z_total = R_series + Z_load\n",
        "\n",
        "println(\"--- Impedance Calculations ---\")\n",
        "println(\"Z_p1 (parallel cap/res) = \", Z_p1, \" Ω\")\n",
        "println(\"Z_p2 (parallel ind/res) = \", Z_p2, \" Ω\")\n",
        "println(\"Z_total (entire circuit) = \", Z_total, \" Ω\")\n",
        "\n",
        "# --- Step 2: Calculate Complex Power ---\n",
        "\n",
        "# Convert the source voltage to rectangular form for calculations\n",
        "V_source_rad = deg2rad(V_source_polar[2])\n",
        "V_source = V_source_polar[1] * (cos(V_source_rad) + im * sin(V_source_rad))\n",
        "\n",
        "# Calculate the total current from the source\n",
        "I_total = V_source / Z_total\n",
        "\n",
        "# Calculate the total complex power delivered by the source\n",
        "S_total = I_total*V_total\n",
        "\n",
        "# --- Step 3: Extract All Required Quantities from S_total ---\n",
        "\n",
        "# (e) Complex Power\n",
        "println(\"\\n--- Power Calculations ---\")\n",
        "println(\"(e) The complex power (S) is: \", S_total, \" VA\")\n",
        "\n",
        "# (b) Average (Real) Power\n",
        "P_avg = real(S_total)\n",
        "println(\"(b) The average power (P) is: \", P_avg, \" W\")\n",
        "\n",
        "# (c) Reactive Power\n",
        "Q_reactive = imag(S_total)\n",
        "println(\"(c) The reactive power (Q) is: \", Q_reactive, \" var\")\n",
        "\n",
        "# (d) Apparent Power\n",
        "S_apparent = abs(S_total)\n",
        "println(\"(d) The apparent power (|S|) is: \", S_apparent, \" VA\")\n",
        "\n",
        "# (a) Power Factor\n",
        "# The power factor angle is the angle of the COMPLEX POWER\n",
        "pf_angle_rad = angle(S_total)\n",
        "pf = cos(pf_angle_rad)\n",
        "pf_type = Q_reactive > 0 ? \"lagging\" : \"leading\"\n",
        "println(\"(a) The power factor (pf) is: \", pf, \" \", pf_type)"
      ]
    },
    {
      "cell_type": "markdown",
      "metadata": {
        "id": "YHWB-YmaNl35"
      },
      "source": [
        "### **Problem 4**\n",
        "\n",
        "Two loads connected in parallel draw a total of 3.6 kW at 0.6 lagging pf from a 120-V rms, 60-Hz line. One load absorbs 1.8 kW at a 0.707 lagging pf. Determine:\n",
        "(a) the pf of the second load,\n",
        "(b) the parallel element required to correct the total pf to 0.85 lagging.\n",
        "\n",
        "**Guidance:**\n",
        "*   This is a \"power budget\" problem. You know the total power and the power of one part. The power of the second part is simply the difference: `S2 = Stotal - S1`.\n",
        "*   First, calculate the complex power for the total load (`Stotal`) and for load 1 (`S1`) from their given P and pf.\n",
        "*   Subtract to find `S2`. From `S2`, you can determine its power factor.\n",
        "*   For part (b), this is a power factor correction problem. You need to find the new total reactive power (`Q_new`) required for a 0.85 lagging pf. The difference between `Q_new` and the original `Q_total` is the reactive power that must be supplied by the parallel element.\n",
        "*   If the required `Q` is negative, you need a capacitor. If positive, an inductor. Use `Q = V² / X` to find the element's reactance."
      ]
    },
    {
      "cell_type": "code",
      "execution_count": 6,
      "metadata": {
        "id": "Jim6M1brNl35",
        "colab": {
          "base_uri": "https://localhost:8080/",
          "height": 141
        },
        "outputId": "cc9249ca-e170-4115-b113-f0235aceee47"
      },
      "outputs": [
        {
          "output_type": "error",
          "ename": "LoadError",
          "evalue": "UndefVarError: `Q_total` not defined in `Main`\nSuggestion: check for spelling errors or missing imports.",
          "traceback": [
            "UndefVarError: `Q_total` not defined in `Main`\nSuggestion: check for spelling errors or missing imports.",
            "",
            "Stacktrace:",
            " [1] top-level scope",
            "\u001b[90m   @\u001b[39m \u001b[90m\u001b[4mIn[6]:15\u001b[24m\u001b[39m"
          ]
        }
      ],
      "source": [
        "# --- Problem 4 Solution ---\n",
        "\n",
        "# Given Data\n",
        "P_total = 3.6e3 # W\n",
        "pf_total = 0.6  # lagging\n",
        "V_rms = 120.0   # V\n",
        "f = 60.0      # Hz\n",
        "\n",
        "P1 = 1.8e3  # W\n",
        "pf1 = 0.707 # lagging\n",
        "\n",
        "# --- Part (a): Determine the Power Factor of the Second Load ---\n",
        "\n",
        "# Step 1: Calculate S_total\n",
        "phi_total =  # lagging, so angle is positive\n",
        "Q_total =\n",
        "S_total = P_total + im*Q_total\n",
        "\n",
        "# Step 2: Calculate S1\n",
        "phi1 =  # lagging, so angle is positive\n",
        "Q1 =\n",
        "S1 =\n",
        "\n",
        "# Step 3: Calculate S2 by subtracting S1 from S_total\n",
        "S2 = S_total - S1\n",
        "P2 =\n",
        "Q2 =\n",
        "S2_mag =\n",
        "\n",
        "# Step 4: Calculate the power factor of load 2\n",
        "pf2 =\n",
        "pf2_type = Q2 > 0 ? \"lagging\" : \"leading\"\n",
        "\n",
        "println(\"--- Part (a) ---\")\n",
        "println(\"Stotal = \", S_total, \" VA\")\n",
        "println(\"S1 = \", S1, \" VA\")\n",
        "println(\"S2 = Stotal - S1 = \", S2, \" VA\")\n",
        "println(\"The power factor of the second load is: \", round(pf2, 3), \" \", pf2_type)\n",
        "\n",
        "# --- Part (b): Power Factor Correction ---\n",
        "\n",
        "# Step 1: Determine the target Q (Q_new) for the desired pf\n",
        "pf_new = 0.85 # lagging\n",
        "phi_new =\n",
        "\n",
        "# The total real power P_total does not change\n",
        "Q_new =\n",
        "\n",
        "# Step 2: Calculate the required reactive power from the correction element\n",
        "# Q_correction + Q_total = Q_new\n",
        "Q_correction =\n",
        "\n",
        "element_type = Q_correction < 0 ? \"Capacitor\" : \"Inductor\"\n",
        "\n",
        "println(\"\\n--- Part (b) ---\")\n",
        "println(\"Original Total Q = \", round(Q_total, 1), \" var\")\n",
        "println(\"Target Q for 0.85 pf = \", round(Q_new, 1), \" var\")\n",
        "println(\"Required Q from correction element = \", round(Q_correction, 1), \" var\")\n",
        "println(\"Since the required Q is negative, we need a \", element_type, \".\")\n",
        "\n",
        "# Step 3: Calculate the reactance of the required element\n",
        "# For a parallel element, Q = V² / X. So, X = V² / Q.\n",
        "X_element =\n",
        "\n",
        "if element_type == \"Capacitor\"\n",
        "    # C = -1 / (ω * Xc)\n",
        "    omega = 2 * pi * f\n",
        "    C_element =\n",
        "    println(\"The required element is a capacitor with Xc = \", round(X_element, 1), \" Ω\")\n",
        "    println(\"The capacitance value is \", C_element * 1e6, \" µF\")\n",
        "else\n",
        "    # L = Xl / ω\n",
        "    omega = 2 * pi * f\n",
        "    L_element =\n",
        "    println(\"The required element is an inductor with Xl = \", round(X_element, 1), \" Ω\")\n",
        "    println(\"The inductance value is \", L_element * 1e3, \" mH\")\n",
        "end"
      ]
    }
  ],
  "metadata": {
    "kernelspec": {
      "display_name": "Julia",
      "name": "julia"
    },
    "language_info": {
      "name": "julia"
    },
    "orig_nbformat": 4,
    "colab": {
      "provenance": []
    }
  },
  "nbformat": 4,
  "nbformat_minor": 0
}